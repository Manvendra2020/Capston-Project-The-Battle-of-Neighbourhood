{
    "cells": [
        {
            "cell_type": "markdown",
            "metadata": {},
            "source": "# Capstone Project - The Battle of the Neighborhood (Chicago, Illinois) :Introduction"
        },
        {
            "cell_type": "markdown",
            "metadata": {},
            "source": "## Table of contents\n* [Introduction: Business Problem](#introduction)\n* [Data](#data)\n* [Data set used ](#DataSet)\n* [API and Python package](#API)"
        },
        {
            "cell_type": "markdown",
            "metadata": {},
            "source": "\n## Introduction: Business Problem <a name=\"introduction\"></a>"
        },
        {
            "cell_type": "markdown",
            "metadata": {},
            "source": "The aim of this project is to find a safe and secure location for opening of commercial establishments in Chicago, illinois. Specifically, this report will be targeted to stakeholders interested in opening any business place like **Grocery Store** in **Chicago illinois**, USA.\n\nThe first task would be to **choose the community area** by analysing crime data per capita income for opening a grocery store and **short listing a neighbourhood**, where grocery stores are not amongst the most common venues, and yet **as close to the city as possible**.\n\nWe will make use of our data science tools to analyse data and focus on the safest community area and explore its neighborhoods and the 10 most common venues in each neighborhood so that the best neighborhood where grocery store is not amongst the most common venue can be selected."
        },
        {
            "cell_type": "markdown",
            "metadata": {},
            "source": "## Data <a name=\"data\"></a>"
        },
        {
            "cell_type": "markdown",
            "metadata": {},
            "source": "Based on definition of our problem, factors that will influence our decision are:\n* finding the safest borough based on crime statistics\n* finding the most common venues\n* choosing the right neighborhood within the borough\n\nWe will be using the geographical coordinates of Chicago to plot neighborhoods in a community area that is safe and in the city's vicinity, and finally cluster our neighborhoods and present our findings.\n\nFollowing data sources will be needed to extract/generate the required information:\n\n- [**Part 1**: Gathering information of the list of officially categorized Community areas in Chicago from Wikipedia.](#part1): Community areas information will be used to map the existing data where each neighborhood can be assigned with the right Community areas.\n\n- [**Part 2**: Using a real world data set from Chicago city web portal containing the Chicago Crimes from Jan2020 to May2020 and chicago census data](#part2):  A dataset consisting of the crime statistics of each Neighborhood in Chicago along with type of crime, recorded year, month and hour and social economic data set containing demographic details education and income per capita .\n\n- [**Part 3**: Creating a new consolidated dataset of the Neighborhoods, along with their Community areas, crime data ,per capita income and the respective Neighborhood's co-ordinates.](#part3): This data will be fetched using OpenCage Geocoder to find the safest borough and explore the neighborhood by plotting it on maps using Folium and perform exploratory data analysis.\n\n- [**Part 4**: Creating a new consolidated dataset of the Neighborhoods, Community areas, and the most common venues and the respective Neighborhood along with co-ordinates,crime data ,per capita income.](#part4): This data will be fetched using Four Square API to explore the neighborhood venues and to apply machine learning algorithm to cluster the neighborhoods and present the findings by plotting it on maps using Folium."
        },
        {
            "cell_type": "markdown",
            "metadata": {},
            "source": " ## Data set used  <a name=\"DataSet\"></a>\n\n\n####  Chicago Illinois Crime Report \n\nData set URL: https://data.cityofchicago.org/api/views/qzdf-xmn8/rows.csv?accessType=DOWNLOAD\n\n**Columns in this Dataset**\n\n|Column Name|Description|Type|\n|-----------|:-----------------:|-----------|\n|ID |Unique identifier for the record.|Number|\n|Case Number|The Chicago Police Department Record Number|Plain Text|\n|Date|Date when the incident occurred.|Date & Time|\n|Block|The partially redacted address| Plain Text|\n|IUCR|The Illinois Unifrom Crime Reporting code.|Plain Text|\n|Primary Type|The primary description of the IUCR code.|Plain Text|\n|Description|The secondary description of the IUCR code.|Plain Text|\n|Location|Description of the location|Plain Text|\n|Arrest|Indicates whether an arrest was made.|Checkbox|\n|Domestic|Indicates whether the incident was domestic-related as defined by the Illinois Domestic Violence Act.|Checkbox|\n|Beat|Indicates the beat where the incident occurred.|Plain Text|\n|District|Indicates the police district where the incident occurred.|Plain Text|\n|Ward|The ward (City Council district) where the incident occurred.|Number|\n|Community Area|Indicates the community area where the incident occurred.|Plain Text|\n|FBI Code|Indicates the crime classification as outlined in the FBI's National Incident-Based Reporting System (NIBRS).|Plain Text|\n|X Coordinate|The x coordinate of the location where the incident occurred in State Plane Illinois East NAD 1983 projection.|Number|\n|Y Coordinate|The y coordinate of the location where the incident occurred in State Plane Illinois East NAD 1983 projection.|Number|\n|Year|Year the incident occurred.|Number|\n|Updated On|Date and time the record was last updated.|Date & Time|\n|Latitude|The latitude of the location where the incident occurred.|Number|\n|Longitude|The longitude of the location where the incident occurred.|Number|\n|Location|The location where the incident occurred in a format that allows for creation of maps and other geographic operations on this data portal.|Location|\n\n\n#### Socioeconomic Indicators in Chicago\nThis dataset contains a selection of six socioeconomic indicators of public health significance and a \u201chardship index,\u201d for each Chicago community area, for the years 2008 \u2013 2012.\nData set URL: https://ibm.box.com/shared/static/05c3415cbfbtfnr2fx4atenb2sd361ze.csv\n\n**Columns in this Dataset**\n\n|Column Name|Description|Type|\n|-----------|:-----------------:|-----------|\n|Community Area Number||Number|\n|COMMUNITY AREA NAME||Plain Text\n|PERCENT OF HOUSING CROWDED|Percent occupied housing units with more than one person per room|Number|\n|PERCENT HOUSEHOLDS BELOW POVERTY|Percent of households living below the federal poverty level|Number|\n|PERCENT AGED 16+ UNEMPLOYED|Percent of persons over the age of 16 years that are unemployed|Number|\n|PERCENT AGED 25+ WITHOUT HIGH SCHOOL DIPLOMA|Percent of persons over the age of 25 years without a high school education|Number|\n|PERCENT AGED UNDER 18 OR OVER 64|Percent of the population under 18 or over 64 years of age (i.e., dependency)|Number|\n|PER CAPITA INCOME|Community Area Per capita income is estimated as the sum of tract-level aggregate incomes divided by the total population|Number|\n|HARDSHIP INDEX|Score that incorporates each of the six selected socioeconomic indicators (see dataset description)|Number|\n\n"
        },
        {
            "cell_type": "markdown",
            "metadata": {},
            "source": "## API and Python package  <a name=\"API\"></a>"
        },
        {
            "cell_type": "markdown",
            "metadata": {},
            "source": "* Foursquare API:\nThis API has a database of more than 105 million places. This project would use Four-square API as its prime data gathering source. Many organizations are using to geo-tag their photos with detailed info about a destination, while also serving up contextually relevant locations for those who are searching for a place to eat, drink or explore. This API provides the ability to perform location search, location sharing and details about a business. Foursquare users can also use photos, tips and reviews in many productive ways to add value to the results.\n\n* Work Flow:\nHTTP requests would be made to this Foursquare API server using zip codes of the Chicago city neighborhoods to pull the location information (Latitude and Longitude).Foursquare API search feature would be enabled to collect the nearby places of the neighborhoods. Due to http request limitations the number of places per neighborhood parameter would reasonably be set to 100 and the radius parameter would be set to 700.\n\n* Folium- Python visualization library would be used to visualize the neighborhoods cluster distribution of Chicago city over an interactive leaflet map.Extensive comparative analysis of two randomly picked neighborhoods world be carried out to derive the desirable insights from the outcomes using python\u2019s scientific libraries Pandas, NumPy and Scikit-learn.\n\n* Unsupervised machine learning algorithm K-mean clustering would be applied to form the clusters of different categories of places residing in and around the neighborhoods. These clusters from each of those two chosen neighborhoods would be analyzed individually collectively and comparatively to derive the conclusions."
        },
        {
            "cell_type": "markdown",
            "metadata": {},
            "source": "##### Python packages and Dependencies:\n* Pandas - Library for Data Analysis\n* NumPy \u2013 Library to handle data in a vectorized manner\n* JSON \u2013 Library to handle JSON files\n* Geopy \u2013 To retrieve Location Data\n* bs4 - Library for scraping information from web\n* Requests \u2013 Library to handle http requests\n* Matplotlib \u2013 Python Plotting Module\n* Sklearn \u2013 Python machine learning Library\n* Folium \u2013 Map rendering Library"
        },
        {
            "cell_type": "code",
            "execution_count": null,
            "metadata": {},
            "outputs": [],
            "source": ""
        }
    ],
    "metadata": {
        "kernelspec": {
            "display_name": "Python",
            "language": "python",
            "name": "conda-env-python-py"
        },
        "language_info": {
            "codemirror_mode": {
                "name": "ipython",
                "version": 3
            },
            "file_extension": ".py",
            "mimetype": "text/x-python",
            "name": "python",
            "nbconvert_exporter": "python",
            "pygments_lexer": "ipython3",
            "version": "3.6.10"
        }
    },
    "nbformat": 4,
    "nbformat_minor": 4
}